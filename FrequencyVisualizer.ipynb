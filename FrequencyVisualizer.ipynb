{
 "cells": [
  {
   "cell_type": "code",
   "execution_count": 109,
   "metadata": {
    "collapsed": false,
    "scrolled": true
   },
   "outputs": [],
   "source": [
    "from collections import Counter\n",
    "from ipywidgets import interact, interactive, fixed, interact_manual\n",
    "\n",
    "import numpy as np\n",
    "import matplotlib.pyplot as plt\n",
    "\n",
    "def create_dictionary(txt):\n",
    "    alphabet = \"ABCDEFGHIGKLMNOPQRSTUVWXYZ\"\n",
    "    words = txt.upper()\n",
    "    words = words.replace(\" \", \"\")\n",
    "    dictionary = {}\n",
    "    length = len(words)\n",
    "    for x in list(alphabet):\n",
    "        dictionary[x] = words.count(x)/length\n",
    "    return dictionary\n",
    "\n",
    "def get_frequency_plot(txt):\n",
    "    test_dict = sorted(create_dictionary(txt).items())\n",
    "    keys = [item[0] for item in test_dict]\n",
    "    values = [item[1] for item in test_dict]\n",
    "    plt.cla()\n",
    "    plt.bar(range(len(keys)), values, align='center', color='g')\n",
    "    plt.xticks(range(len(keys)), keys)\n",
    "    plt.title(txt)\n",
    "    plt.ylabel(\"Letter Frequency\")\n",
    "    plt.plot()\n",
    "    "
   ]
  },
  {
   "cell_type": "code",
   "execution_count": 111,
   "metadata": {
    "collapsed": false
   },
   "outputs": [
    {
     "data": {
      "image/png": "[encoded data removed]",
      "text/plain": [
       "<matplotlib.figure.Figure at 0x1af21d10550>"
      ]
     },
     "metadata": {},
     "output_type": "display_data"
    }
   ],
   "source": [
    "def encrypt_caeser(text, shift):\n",
    "    result = \"\" \n",
    "    text = text.upper()\n",
    "    # traverse text \n",
    "    for i in range(len(text)): \n",
    "        char = text[i] \n",
    "        result += chr((ord(char) + shift-65) % 26 + 65)\n",
    "        get_frequency_plot(result)\n",
    "\n",
    "#get_frequency_plot(encrypt_caeser(text = \"Tuana\", shift = 3))\n",
    "\n",
    "interact(encrypt_caeser, text=\"\", shift=(0,25))"
   ]
  },
  {
   "cell_type": "code",
   "execution_count": 108,
   "metadata": {
    "collapsed": false
   },
   "outputs": [],
   "source": [
    "def generate_key(text, key): \n",
    "    key = list(key) \n",
    "    if len(text) == len(key): \n",
    "        return(key) \n",
    "    else: \n",
    "        for i in range(len(text) - \n",
    "                       len(key)): \n",
    "            key.append(key[i % len(key)]) \n",
    "    return key\n",
    "\n",
    "def encrypt_vigenere(text, key):\n",
    "    text = text.upper()\n",
    "    text = text.replace(\" \", \"\")\n",
    "    key = key.upper()\n",
    "    key = key.replace(\" \", \"\")\n",
    "    key = generate_key(text, key)\n",
    "    cipher_text = [] \n",
    "    for i in range(len(text)): \n",
    "        x = (ord(text[i]) + \n",
    "             ord(key[i])) % 26\n",
    "        x += ord('A') \n",
    "        cipher_text.append(chr(x)) \n",
    "    cipher_text = ''.join(cipher_text)\n",
    "    get_frequency_plot(cipher_text)\n",
    "\n",
    "#interact(encrypt_vigenere, text=\"example\", key=\"key\")"
   ]
  },
  {
   "cell_type": "code",
   "execution_count": 107,
   "metadata": {
    "collapsed": false
   },
   "outputs": [
    {
     "data": {
      "text/plain": [
       "'UFAOL'"
      ]
     },
     "execution_count": 107,
     "metadata": {},
     "output_type": "execute_result"
    },
    {
     "data": {
      "image/png": "[encoded data removed]",
      "text/plain": [
       "<matplotlib.figure.Figure at 0x1af23b3b4a8>"
      ]
     },
     "metadata": {},
     "output_type": "display_data"
    }
   ],
   "source": [
    "text = \"Tuana\"\n",
    "key = \"Bla\"\n",
    "\n",
    "encrypt_vigenere(text, key)"
   ]
  },
  {
   "cell_type": "code",
   "execution_count": null,
   "metadata": {
    "collapsed": true
   },
   "outputs": [],
   "source": []
  }
 ],
 "metadata": {
  "kernelspec": {
   "display_name": "Python [Root]",
   "language": "python",
   "name": "Python [Root]"
  },
  "language_info": {
   "codemirror_mode": {
    "name": "ipython",
    "version": 3
   },
   "file_extension": ".py",
   "mimetype": "text/x-python",
   "name": "python",
   "nbconvert_exporter": "python",
   "pygments_lexer": "ipython3",
   "version": "3.5.2"
  }
 },
 "nbformat": 4,
 "nbformat_minor": 0
}
