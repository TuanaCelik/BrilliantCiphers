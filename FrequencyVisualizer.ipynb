{
 "cells": [
  {
   "cell_type": "code",
   "execution_count": 31,
   "metadata": {
    "collapsed": false,
    "scrolled": true
   },
   "outputs": [],
   "source": [
    "from ipywidgets import interact\n",
    "\n",
    "import numpy as np\n",
    "import matplotlib.pyplot as plt\n",
    "import ipywidgets as widgets\n",
    "\n",
    "%matplotlib inline\n",
    "plt.rcParams['figure.figsize'] = [15, 6]\n",
    "\n",
    "alphabet = \"ABCDEFGHIJKLMNOPQRSTUVWXYZ\"\n",
    "\n",
    "def normalize_text(txt):\n",
    "    txt = txt.upper()\n",
    "    return txt\n",
    "   \n",
    "def get_normalized_length(txt):\n",
    "    length = 0\n",
    "    for x in txt:\n",
    "        if alphabet.count(x) >= 1:\n",
    "            length += 1\n",
    "    return length\n",
    "\n",
    "def create_dictionary(txt):\n",
    "    dictionary = {}\n",
    "    length = get_normalized_length(txt)\n",
    "    for x in list(alphabet):\n",
    "        dictionary[x] = (txt.count(x)/length)*100\n",
    "    return dictionary\n",
    "\n",
    "def get_frequency_plot(txt):\n",
    "    test_dict = sorted(create_dictionary(txt).items())\n",
    "    keys = [item[0] for item in test_dict]\n",
    "    values = [item[1] for item in test_dict]\n",
    "    plt.cla()\n",
    "    plt.title(\"Frequency Plot of Enlsih Letters\")\n",
    "    plt.bar(range(len(keys)), values, width=0.8, color='g', label=\"Your Text\")\n",
    "    plt.xticks([i+0.4 for i in range(len(keys))], keys)\n",
    "    plt.ylabel(\"Letter Frequency %\")\n",
    "    plt.plot()\n",
    "    "
   ]
  },
  {
   "cell_type": "code",
   "execution_count": 32,
   "metadata": {
    "collapsed": false,
    "scrolled": true
   },
   "outputs": [],
   "source": [
    "def encrypt_caeser(text, shift):\n",
    "    result = \"\"\n",
    "    text = normalize_text(text)\n",
    "    for i in range(len(text)): \n",
    "        char = text[i] \n",
    "        if alphabet.count(char) < 1:\n",
    "            result += char\n",
    "        else:\n",
    "            result += chr((ord(char) + shift-65) % 26 + 65)\n",
    "    return result"
   ]
  },
  {
   "cell_type": "code",
   "execution_count": 33,
   "metadata": {
    "collapsed": false
   },
   "outputs": [
    {
     "name": "stdout",
     "output_type": "stream",
     "text": [
      "UFYU UP FODSZQU\n"
     ]
    }
   ],
   "source": [
    "text=\"Text to encrypt\"\n",
    "shift=1\n",
    "\n",
    "print(encrypt_caeser(text, shift))"
   ]
  },
  {
   "cell_type": "code",
   "execution_count": 34,
   "metadata": {
    "collapsed": false
   },
   "outputs": [
    {
     "data": {
      "image/png": "[encoded data removed]",
      "text/plain": [
       "<matplotlib.figure.Figure at 0x2d4dd09d390>"
      ]
     },
     "metadata": {},
     "output_type": "display_data"
    }
   ],
   "source": [
    "def plot_caeser_encrypted(text, shift):\n",
    "    get_frequency_plot(encrypt_caeser(text, shift))\n",
    "    \n",
    "interact(plot_caeser_encrypted, text=\"Try changing this text\", shift=(0,25))"
   ]
  },
  {
   "cell_type": "code",
   "execution_count": 35,
   "metadata": {
    "collapsed": false
   },
   "outputs": [],
   "source": [
    "def generate_key(text, key): \n",
    "    key = list(key) \n",
    "    if len(text) == len(key): \n",
    "        return(key) \n",
    "    else: \n",
    "        for i in range(len(text) - len(key)): \n",
    "            key.append(key[i % len(key)]) \n",
    "    return key\n",
    "\n",
    "def encrypt_vigenere(text, key):\n",
    "    text = normalize_text(text)\n",
    "    key = normalize_text(key)\n",
    "    key = generate_key(text, key)\n",
    "    cipher_text = [] \n",
    "    for i in range(len(text)):\n",
    "        if alphabet.count(text[i]) == 1:\n",
    "            x = (ord(text[i]) + ord(key[i])) % 26\n",
    "            x += ord('A') \n",
    "            cipher_text.append(chr(x)) \n",
    "        else:\n",
    "            cipher_text.append(text[i])\n",
    "    cipher_text = ''.join(cipher_text)\n",
    "    return cipher_text"
   ]
  },
  {
   "cell_type": "code",
   "execution_count": 37,
   "metadata": {
    "collapsed": false
   },
   "outputs": [
    {
     "name": "stdout",
     "output_type": "stream",
     "text": [
      "RIJVS GSPVH\n"
     ]
    }
   ],
   "source": [
    "text = \"Hello World\"\n",
    "key = \"key\"\n",
    "\n",
    "print(encrypt_vigenere(text, key))"
   ]
  },
  {
   "cell_type": "code",
   "execution_count": 38,
   "metadata": {
    "collapsed": false
   },
   "outputs": [
    {
     "data": {
      "text/plain": [
       "<function __main__.plot_vigenere_encrypted>"
      ]
     },
     "execution_count": 38,
     "metadata": {},
     "output_type": "execute_result"
    },
    {
     "data": {
      "image/png": "[encoded data removed]",
      "text/plain": [
       "<matplotlib.figure.Figure at 0x2d4dcd52588>"
      ]
     },
     "metadata": {},
     "output_type": "display_data"
    }
   ],
   "source": [
    "def plot_vigenere_encrypted(text, key):\n",
    "    get_frequency_plot(encrypt_vigenere(text, key))\n",
    "\n",
    "interact(plot_vigenere_encrypted, text=\"Example\", key=\"key\")"
   ]
  },
  {
   "cell_type": "code",
   "execution_count": 39,
   "metadata": {
    "collapsed": false
   },
   "outputs": [
    {
     "data": {
      "image/png": "[encoded data removed]",
      "text/plain": [
       "<matplotlib.figure.Figure at 0x2d4dc182860>"
      ]
     },
     "metadata": {},
     "output_type": "display_data"
    }
   ],
   "source": [
    "#ASSUMING THE CIPHERTEXT WAS GENEATED BY A KEYWORD OF LENGTH 1\n",
    "\n",
    "#Here is a cipher text:\n",
    "\n",
    "cipher_text = \"QPEG VJGTG YCU C IKTN PCOGF GVJGN, YJQ YCU C FKUETGVG OCVJU YKB CV DTKUVQN. VJGP JGT RTQHGUUQT FGEKFGF JGT PCOG YCU CP QNF NCFA'U PCOG CPF OCFG HWP QH JGT GXGTA NGEVWTG\"\n",
    "\n",
    "get_frequency_plot(cipher_text)\n"
   ]
  },
  {
   "cell_type": "code",
   "execution_count": 42,
   "metadata": {
    "collapsed": false
   },
   "outputs": [],
   "source": [
    "english_letter_frequency = [\n",
    "    ('A', 8.2), \n",
    "    ('B', 1.5), \n",
    "    ('C', 2.8), \n",
    "    ('D', 4.3), \n",
    "    ('E', 12.7), \n",
    "    ('F', 2.2), \n",
    "    ('G', 2.0), \n",
    "    ('H', 6.1), \n",
    "    ('I', 7.0),\n",
    "    ('J', 0.15),\n",
    "    ('K', 0.8), \n",
    "    ('L', 4.0), \n",
    "    ('M', 2.4), \n",
    "    ('N', 6.7), \n",
    "    ('O', 7.5), \n",
    "    ('P', 1.9), \n",
    "    ('Q', 0.1), \n",
    "    ('R', 6.0), \n",
    "    ('S', 6.3), \n",
    "    ('T', 9.1), \n",
    "    ('U', 2.8), \n",
    "    ('V', 1.0), \n",
    "    ('W', 2.4), \n",
    "    ('X', 0.15), \n",
    "    ('Y', 2.0), \n",
    "    ('Z', 0.07)]\n",
    "\n",
    "keys = [item[0] for item in english_letter_frequency]\n",
    "values = [item[1] for item in english_letter_frequency]\n",
    "\n",
    "def decrytp_caeser(cipher_text, shift):\n",
    "    result = \"\"\n",
    "    # traverse text\n",
    "    shift = shift.upper()\n",
    "    shift = ord(shift)\n",
    "    for i in range(len(cipher_text)): \n",
    "        char = cipher_text[i] \n",
    "        if alphabet.count(char) < 1:\n",
    "            result += char\n",
    "        else:\n",
    "            result += chr((ord(char) - shift + 26) % 26 + ord('A'))\n",
    "    return result"
   ]
  },
  {
   "cell_type": "code",
   "execution_count": 43,
   "metadata": {
    "collapsed": false
   },
   "outputs": [
    {
     "data": {
      "image/png": "[encoded data removed]",
      "text/plain": [
       "<matplotlib.figure.Figure at 0x2d4dc384080>"
      ]
     },
     "metadata": {},
     "output_type": "display_data"
    }
   ],
   "source": [
    "def plot_caeser_decrypted(cipher_text, shift):\n",
    "    get_frequency_plot(decrytp_caeser(cipher_text, shift))\n",
    "    plt.bar([i+0.2 for i in range(len(keys))], values, width=0.4, color='b', label='English Language')\n",
    "    plt.legend()\n",
    "    \n",
    "interact(plot_caeser_decrypted, cipher_text=cipher_text, shift=['A', 'B', 'C', 'D', 'E', 'F', 'G', 'H', 'I', 'J',\n",
    "                                                         'K', 'L', 'M', 'N', 'O', 'P', 'Q', 'R', 'S', 'T', 'U', 'V', 'W',\n",
    "                                                         'X', 'Y', 'Z'])"
   ]
  },
  {
   "cell_type": "code",
   "execution_count": null,
   "metadata": {
    "collapsed": true
   },
   "outputs": [],
   "source": []
  }
 ],
 "metadata": {
  "anaconda-cloud": {},
  "kernelspec": {
   "display_name": "Python [Root]",
   "language": "python",
   "name": "Python [Root]"
  },
  "language_info": {
   "codemirror_mode": {
    "name": "ipython",
    "version": 3
   },
   "file_extension": ".py",
   "mimetype": "text/x-python",
   "name": "python",
   "nbconvert_exporter": "python",
   "pygments_lexer": "ipython3",
   "version": "3.5.2"
  }
 },
 "nbformat": 4,
 "nbformat_minor": 0
}
